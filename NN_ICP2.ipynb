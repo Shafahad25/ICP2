{
  "nbformat": 4,
  "nbformat_minor": 0,
  "metadata": {
    "colab": {
      "provenance": []
    },
    "kernelspec": {
      "name": "python3",
      "display_name": "Python 3"
    },
    "language_info": {
      "name": "python"
    }
  },
  "cells": [
    {
      "cell_type": "code",
      "execution_count": 1,
      "metadata": {
        "id": "lm78gfSrKbrL",
        "colab": {
          "base_uri": "https://localhost:8080/"
        },
        "outputId": "141eda61-4a41-42a4-87aa-c3a6e4d4e1d2"
      },
      "outputs": [
        {
          "output_type": "stream",
          "name": "stdout",
          "text": [
            "Few benefits as full time employee.\n",
            "Average salary: 148750.0\n"
          ]
        }
      ],
      "source": [
        "class Employee:\n",
        "\n",
        "    # Creating a data member to count the number of Employees\n",
        "\n",
        "    no_of_employees = 0\n",
        "    # Initializing name, family, salary, department\n",
        "\n",
        "    def __init__(self, name, family_name, salary, department):\n",
        "        self.__name = name\n",
        "        self.__family_name = family_name\n",
        "        self.salary = salary\n",
        "        self.__department = department\n",
        "        Employee.no_of_employees += 1\n",
        "     #Creating a function to average salary\n",
        "    @staticmethod\n",
        "    def average_salary(employees):\n",
        "\n",
        "        sum = 0\n",
        "        for employee in employees:\n",
        "            sum += employee.salary\n",
        "        return sum / Employee.no_of_employees\n",
        "      #Creating a Fulltime Employee class\n",
        "class FulltimeEmployee(Employee):\n",
        "\n",
        "    def __init__(self, name, family_name, salary, department):\n",
        "        super().__init__(name, family_name, salary, department)\n",
        "\n",
        "    def full_time_benefits(self):\n",
        "        print(\"Few benefits as full time employee.\")\n",
        "\n",
        "# Creating the instances of Fulltime Employee class and Employee class and also calling their member functions.\n",
        "\n",
        "def main():\n",
        "    employees = []\n",
        "    fte1 = FulltimeEmployee(\"Employee1\", \"FamilyName1\", 120000, \"Management\")\n",
        "    fte1.full_time_benefits()\n",
        "    employees.append(fte1)\n",
        "    fte2 = FulltimeEmployee(\"Employee2\", \"FamilyName2\", 180000, \"RnD\")\n",
        "    employees.append(fte2)\n",
        "    emp1 = Employee(\"Employee3\", \"FamilyName3\", 160000, \"Marketing\")\n",
        "    employees.append(emp1)\n",
        "    emp2 = Employee(\"Employee4\", \"FamilyName4\", 135000, \"HR\")\n",
        "    employees.append(emp2)\n",
        "    print(\"Average salary:\", FulltimeEmployee.average_salary(employees))\n",
        "\n",
        "\n",
        "if __name__ == \"__main__\":\n",
        "    main()\n"
      ]
    },
    {
      "cell_type": "code",
      "source": [
        "import numpy as np\n",
        "\n",
        "                                   #Creating a random vector of size 20\n",
        "v = np.random.uniform(1, 20, 20)\n",
        "\n",
        "v = v. reshape(4, 5)  # Reshape the array to 4 by 5\n",
        "\n",
        "print(v)\n",
        "\n",
        "v[np.arange(4), v.argmax(axis=1)]=0 # Replace the max value with 0 (axis=1)\n",
        "print(v)\n"
      ],
      "metadata": {
        "colab": {
          "base_uri": "https://localhost:8080/"
        },
        "id": "zexhyS1HKyNm",
        "outputId": "d5c94356-446f-47a4-eb19-46a32c10540f"
      },
      "execution_count": 2,
      "outputs": [
        {
          "output_type": "stream",
          "name": "stdout",
          "text": [
            "[[19.57689122  5.62735693 18.52216278 11.45594417  4.14317251]\n",
            " [ 8.35175576  2.76617517  8.44664661 16.13327749  5.53420942]\n",
            " [ 1.49039876  6.27035742  7.86094095 11.14952153 17.50804802]\n",
            " [ 9.98404881 13.71169958  1.43851638 16.47247609  4.45428565]]\n",
            "[[ 0.          5.62735693 18.52216278 11.45594417  4.14317251]\n",
            " [ 8.35175576  2.76617517  8.44664661  0.          5.53420942]\n",
            " [ 1.49039876  6.27035742  7.86094095 11.14952153  0.        ]\n",
            " [ 9.98404881 13.71169958  1.43851638  0.          4.45428565]]\n"
          ]
        }
      ]
    }
  ]
}